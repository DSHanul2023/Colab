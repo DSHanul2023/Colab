{
  "nbformat": 4,
  "nbformat_minor": 0,
  "metadata": {
    "colab": {
      "provenance": []
    },
    "kernelspec": {
      "name": "python3",
      "display_name": "Python 3"
    },
    "language_info": {
      "name": "python"
    }
  },
  "cells": [
    {
      "cell_type": "code",
      "execution_count": null,
      "metadata": {
        "id": "l66PkxrhNkWf"
      },
      "outputs": [],
      "source": [
        "    !wget https://www.python.org/ftp/python/3.8.6/Python-3.8.6.tgz\n",
        "    !tar xvfz Python-3.8.6.tgz\n",
        "    !Python-3.8.6/configure\n",
        "    !make\n",
        "    !sudo make install\n"
      ]
    }
  ]
}