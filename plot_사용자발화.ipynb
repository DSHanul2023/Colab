{
  "nbformat": 4,
  "nbformat_minor": 0,
  "metadata": {
    "colab": {
      "provenance": []
    },
    "kernelspec": {
      "name": "python3",
      "display_name": "Python 3"
    },
    "language_info": {
      "name": "python"
    }
  },
  "cells": [
    {
      "cell_type": "code",
      "source": [
        "!pip install konlpy\n"
      ],
      "metadata": {
        "colab": {
          "base_uri": "https://localhost:8080/"
        },
        "id": "NupKEWUDNlZX",
        "outputId": "eee88ac5-c109-4e8d-bb57-dd6f73125b04"
      },
      "execution_count": null,
      "outputs": [
        {
          "output_type": "stream",
          "name": "stdout",
          "text": [
            "Collecting konlpy\n",
            "  Downloading konlpy-0.6.0-py2.py3-none-any.whl (19.4 MB)\n",
            "\u001b[2K     \u001b[90m━━━━━━━━━━━━━━━━━━━━━━━━━━━━━━━━━━━━━━━━\u001b[0m \u001b[32m19.4/19.4 MB\u001b[0m \u001b[31m48.8 MB/s\u001b[0m eta \u001b[36m0:00:00\u001b[0m\n",
            "\u001b[?25hCollecting JPype1>=0.7.0 (from konlpy)\n",
            "  Downloading JPype1-1.4.1-cp310-cp310-manylinux_2_12_x86_64.manylinux2010_x86_64.whl (465 kB)\n",
            "\u001b[2K     \u001b[90m━━━━━━━━━━━━━━━━━━━━━━━━━━━━━━━━━━━━━━\u001b[0m \u001b[32m465.3/465.3 kB\u001b[0m \u001b[31m40.5 MB/s\u001b[0m eta \u001b[36m0:00:00\u001b[0m\n",
            "\u001b[?25hRequirement already satisfied: lxml>=4.1.0 in /usr/local/lib/python3.10/dist-packages (from konlpy) (4.9.3)\n",
            "Requirement already satisfied: numpy>=1.6 in /usr/local/lib/python3.10/dist-packages (from konlpy) (1.23.5)\n",
            "Requirement already satisfied: packaging in /usr/local/lib/python3.10/dist-packages (from JPype1>=0.7.0->konlpy) (23.1)\n",
            "Installing collected packages: JPype1, konlpy\n",
            "Successfully installed JPype1-1.4.1 konlpy-0.6.0\n"
          ]
        }
      ]
    },
    {
      "cell_type": "code",
      "source": [
        "import nltk\n",
        "from nltk.corpus import stopwords\n",
        "from nltk.tokenize import word_tokenize\n",
        "from nltk.stem import PorterStemmer\n",
        "from sklearn.feature_extraction.text import TfidfVectorizer\n",
        "from sklearn.metrics.pairwise import cosine_similarity\n",
        "from konlpy.tag import Okt"
      ],
      "metadata": {
        "id": "cxqA2YSCOBPY"
      },
      "execution_count": null,
      "outputs": []
    },
    {
      "cell_type": "code",
      "source": [
        "# nltk 데이터 다운로드 (한 번만 수행)\n",
        "nltk.download('punkt')\n",
        "nltk.download('stopwords')"
      ],
      "metadata": {
        "colab": {
          "base_uri": "https://localhost:8080/"
        },
        "id": "dCO_6rpZN_5H",
        "outputId": "8055bdb3-9ee7-4bad-a20c-fa4850967c11"
      },
      "execution_count": null,
      "outputs": [
        {
          "output_type": "stream",
          "name": "stderr",
          "text": [
            "[nltk_data] Downloading package punkt to /root/nltk_data...\n",
            "[nltk_data]   Unzipping tokenizers/punkt.zip.\n",
            "[nltk_data] Downloading package stopwords to /root/nltk_data...\n",
            "[nltk_data]   Unzipping corpora/stopwords.zip.\n"
          ]
        },
        {
          "output_type": "execute_result",
          "data": {
            "text/plain": [
              "True"
            ]
          },
          "metadata": {},
          "execution_count": 5
        }
      ]
    },
    {
      "cell_type": "code",
      "source": [
        "\n",
        "\n",
        "\n",
        "\n",
        "# 예시 데이터\n",
        "data = [\n",
        "    \"불, 물, 공기, 흙 4개의 원소들이 살고 있는 엘리멘트 시티. 재치 있고 불처럼 열정 넘치는 앰버는 어느 날 우연히 유쾌하고 감성적이며 물 흐르듯 사는 웨이드를 만나 특별한 우정을 쌓으며, 지금껏 믿어온 모든 것들이 흔들리는 새로운 경험을 하게 되는데...\",\n",
        "    \"베일에 싸인 글로벌 평화유지 조직. 이곳에 속한 첩보원이 시간과의 싸움을 벌인다. 조직이 보유한 가장 가치 있고 위험한 무기를 훔치려는 해커를 막기 위해.\",\n",
        "    \"여러 성장통을 겪으며 새로운 스파이더맨이 된 마일스 모랄레스. 그 앞에 다른 평행세계의 스파이더우먼 그웬이 다시 나타난다. 모든 차원의 멀티버스 속 스파이더맨들을 만나게 되지만, 질서에 대한 신념이 부딪히며 예상치 못한 균열이 생기는데… 상상 그 이상을 넘어서는 멀티버스의 세계가 열린다!\",\n",
        "    \"'뉴욕 타임스’ 베스트셀러 원작의 ‘빨강, 파랑, 어쨌든 찬란’은 미국 대통령의 아들 알렉스와 영국의 헨리 왕자의 이야기다. 두 라이벌의 오랜 불화가 미-영 관계를 위협하자 이들은 사이가 좋은 척 연기하기를 강요받는다. 그러면서 둘의 냉랭한 관계는 서서히 녹아내리고 예상치도 못했던 불꽃이 둘 사이에 활활 타오른다.\"\n",
        "]\n",
        "\n",
        "# 사용자 발화\n",
        "user_input = \"베일에 너무 무서워. 파랑색이 좋아.\"\n",
        "\n",
        "# KoNLPy의 Okt 객체 생성\n",
        "okt = Okt()\n",
        "\n",
        "# 텍스트 전처리 및 토큰화 함수\n",
        "def preprocess_text(text):\n",
        "    words = okt.morphs(text, stem=True)\n",
        "    return ' '.join(words)\n",
        "\n",
        "# 데이터 전처리\n",
        "preprocessed_data = [preprocess_text(text) for text in data]\n",
        "preprocessed_user_input = preprocess_text(user_input)\n",
        "\n",
        "# TF-IDF 벡터화\n",
        "vectorizer = TfidfVectorizer()\n",
        "tfidf_matrix = vectorizer.fit_transform(preprocessed_data + [preprocessed_user_input])\n",
        "\n",
        "# 사용자 발화와 데이터 간의 코사인 유사도 계산\n",
        "similarity_matrix = cosine_similarity(tfidf_matrix)\n",
        "\n",
        "# 결과 출력\n",
        "for idx, score in enumerate(similarity_matrix[-1][:-1]):\n",
        "    print(f\"User input similarity with document {idx+1}: {score:.4f}\")\n"
      ],
      "metadata": {
        "colab": {
          "base_uri": "https://localhost:8080/"
        },
        "id": "fyVAaUOiMdlX",
        "outputId": "619fd706-d1ef-4a9f-a188-ad401800caa9"
      },
      "execution_count": null,
      "outputs": [
        {
          "output_type": "stream",
          "name": "stdout",
          "text": [
            "User input similarity with document 1: 0.0000\n",
            "User input similarity with document 2: 0.0650\n",
            "User input similarity with document 3: 0.0000\n",
            "User input similarity with document 4: 0.0462\n"
          ]
        }
      ]
    }
  ]
}