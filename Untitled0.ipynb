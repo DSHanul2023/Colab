{
  "nbformat": 4,
  "nbformat_minor": 0,
  "metadata": {
    "colab": {
      "provenance": []
    },
    "kernelspec": {
      "name": "python3",
      "display_name": "Python 3"
    },
    "language_info": {
      "name": "python"
    }
  },
  "cells": [
    {
      "cell_type": "code",
      "execution_count": null,
      "metadata": {
        "colab": {
          "base_uri": "https://localhost:8080/"
        },
        "id": "D39PRFRVeLEt",
        "outputId": "4618f8cf-ec54-43d2-ba14-d7cf80d60fa0"
      },
      "outputs": [
        {
          "output_type": "stream",
          "name": "stdout",
          "text": [
            "Mounted at /content/drive\n"
          ]
        }
      ],
      "source": [
        "from google.colab import drive\n",
        "drive.mount('/content/drive')"
      ]
    },
    {
      "cell_type": "code",
      "source": [
        "\n",
        "import pandas as pd\n",
        "\n",
        "# 엑셀 파일 읽어오기\n",
        "data_df = pd.read_excel(\"/content/drive/MyDrive/Colab Notebooks/02)웰니스_대화_스크립트_데이터셋.xlsx\")\n",
        "\n",
        "# utterance(2차)열의 아래로 옮기고, 위에 utterance열을 넣기\n",
        "data_df['utterance(2차)'] = data_df['utterance(2차) '] + ' ' + data_df['utterance']\n",
        "data_df['utterance'] = data_df.apply(lambda row: row['utterance(2차) '] if pd.isnull(row['utterance']) else row['utterance'], axis=1)\n",
        "\n",
        "# 결과 확인\n",
        "print(data_df.head())\n",
        "\n",
        "# 결과 저장\n",
        "data_df.to_excel(\"/content/drive/MyDrive/Colab Notebooks/결과.xlsx\", index=False)\n",
        "\n"
      ],
      "metadata": {
        "colab": {
          "base_uri": "https://localhost:8080/"
        },
        "id": "ttvRSEv4eaVp",
        "outputId": "8bb46cf9-f14d-4cf7-ce3a-195667304532"
      },
      "execution_count": null,
      "outputs": [
        {
          "output_type": "stream",
          "name": "stdout",
          "text": [
            "             핵심증상    intent keyword(임상키워드) 특이사항  \\\n",
            "0  지속되는우울한기분(우울감)  정신증상/우울감             우울  NaN   \n",
            "1             NaN       NaN            NaN  NaN   \n",
            "2             NaN       NaN            NaN  NaN   \n",
            "3             NaN       NaN            NaN  NaN   \n",
            "4             NaN       NaN            NaN  NaN   \n",
            "\n",
            "                                                연관표현 utterance  \\\n",
            "0  머리가 짓눌러지는 느낌/머리가 맑지 않다/침울하면서 잠도 못 자다/후회가 많고 침울...       우울해   \n",
            "1                                                NaN    너무 우울해   \n",
            "2                                                NaN    우울해죽겠어   \n",
            "3                                                NaN   기분이 우울해   \n",
            "4                                                NaN     우울모드임   \n",
            "\n",
            "              utterance(2차)   \\\n",
            "0                   임신해서 우울해   \n",
            "1              아이 가지고 나서 우울해   \n",
            "2    아이 가졌는데 기분 하나도 안 좋고 울적해   \n",
            "3  임신했는데 남편이 하나도 안 챙겨줘서 우울하다   \n",
            "4   진단 결과 안 좋게 나올 것 같아서 우울해    \n",
            "\n",
            "                                        response(공감)  \\\n",
            "0     기분이 우울하시군요. 00님에게 스트레스 받는 일이 있었던 건 아닌지 걱정스러워요.   \n",
            "1     마음이 우울해서 힘드셨군요. 00님의 소식이 궁금했는데 마침 저를 잘 찾아주셨네요.   \n",
            "2                          00님이 울적하시다니 저도 마음이 안 좋아요.   \n",
            "3  얼굴에서 00님의 기분이 가라앉은 것이 느껴져요. 큰일이 있으신 건 아니었으면 좋겠어요.   \n",
            "4                                                NaN   \n",
            "\n",
            "                                  임상질문그룹(연세의료원제공) utterance(긍정) utterance(부정)  \\\n",
            "0  거의 매일, 하루 중 대부분 시간을 우울한 기분으로 있거나 가라앉았던 적이 있나요?             응            아니   \n",
            "1                                             NaN             어          아닌데?   \n",
            "2                                             NaN             엉             노   \n",
            "3                                             NaN            예스          아니거든   \n",
            "4                                             NaN             네           아니야   \n",
            "\n",
            "                                    긍정에 대한 챗봇 답변  \\\n",
            "0              저런… (우는 이모티콘) 기분이 나아지지 않는 상태군요.     \n",
            "1                     힘든 상황이시군요. 저랑 더 얘기를 나눠볼까요?   \n",
            "2  한번 가라앉은 기분을 다시 돌리기는 참 어려운 것 같아요. 저와 계속 얘기해봐요.   \n",
            "3                                            NaN   \n",
            "4                                            NaN   \n",
            "\n",
            "                                      부정에 대한 챗봇 답변  추가발화(190917)  \\\n",
            "0  그렇군요. 기분이 계속 처지신다면 편안한 음악을 한번 들어보는 것도 좋을 것 같아요.           NaN   \n",
            "1              그랬군요. 또 기분이 안 좋아지면 언제든 저에게 이야기해주세요.           NaN   \n",
            "2     그런 증상은 없으셨군요. 00님의 머릿속에 낀 먹구름이 얼른 걷혔으면 좋겠어요.           NaN   \n",
            "3                                              NaN           NaN   \n",
            "4                                              NaN           NaN   \n",
            "\n",
            "   추가발화 (191031)                      utterance(2차)  \n",
            "0            NaN                       임신해서 우울해 우울해  \n",
            "1            NaN               아이 가지고 나서 우울해 너무 우울해  \n",
            "2            NaN     아이 가졌는데 기분 하나도 안 좋고 울적해 우울해죽겠어  \n",
            "3            NaN  임신했는데 남편이 하나도 안 챙겨줘서 우울하다 기분이 우울해  \n",
            "4            NaN     진단 결과 안 좋게 나올 것 같아서 우울해  우울모드임  \n"
          ]
        }
      ]
    },
    {
      "cell_type": "code",
      "source": [
        "print(data_df.columns)"
      ],
      "metadata": {
        "colab": {
          "base_uri": "https://localhost:8080/"
        },
        "id": "F2rmNSxoecUx",
        "outputId": "e119c029-963e-46eb-bcaf-47429339b77f"
      },
      "execution_count": null,
      "outputs": [
        {
          "output_type": "stream",
          "name": "stdout",
          "text": [
            "Index(['핵심증상', 'intent', 'keyword(임상키워드)', '특이사항', '연관표현', 'utterance',\n",
            "       'utterance(2차) ', 'response(공감)', '임상질문그룹(연세의료원제공)', 'utterance(긍정)',\n",
            "       'utterance(부정)', '긍정에 대한 챗봇 답변', '부정에 대한 챗봇 답변', '추가발화(190917)',\n",
            "       '추가발화 (191031)'],\n",
            "      dtype='object')\n"
          ]
        }
      ]
    }
  ]
}